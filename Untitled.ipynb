{
 "cells": [
  {
   "cell_type": "code",
   "execution_count": 9,
   "id": "9c0d5017",
   "metadata": {},
   "outputs": [
    {
     "data": {
      "text/plain": [
       "5"
      ]
     },
     "execution_count": 9,
     "metadata": {},
     "output_type": "execute_result"
    }
   ],
   "source": [
    "from Levenshtein import distance as dis\n",
    "\n",
    "dis(\"Abcd Private Limited\",\"ABCD PriVatE Limited\")"
   ]
  },
  {
   "cell_type": "code",
   "execution_count": 10,
   "id": "3af2f6e8",
   "metadata": {},
   "outputs": [
    {
     "data": {
      "text/plain": [
       "0.75"
      ]
     },
     "execution_count": 10,
     "metadata": {},
     "output_type": "execute_result"
    }
   ],
   "source": [
    "from Levenshtein import ratio\n",
    "\n",
    "ratio(\"Abcd Private Limited\",\"ABCD PriVatE Limited\") "
   ]
  },
  {
   "cell_type": "code",
   "execution_count": 12,
   "id": "b936601a",
   "metadata": {},
   "outputs": [
    {
     "data": {
      "text/html": [
       "<div>\n",
       "<style scoped>\n",
       "    .dataframe tbody tr th:only-of-type {\n",
       "        vertical-align: middle;\n",
       "    }\n",
       "\n",
       "    .dataframe tbody tr th {\n",
       "        vertical-align: top;\n",
       "    }\n",
       "\n",
       "    .dataframe thead th {\n",
       "        text-align: right;\n",
       "    }\n",
       "</style>\n",
       "<table border=\"1\" class=\"dataframe\">\n",
       "  <thead>\n",
       "    <tr style=\"text-align: right;\">\n",
       "      <th></th>\n",
       "      <th>Company</th>\n",
       "    </tr>\n",
       "  </thead>\n",
       "  <tbody>\n",
       "    <tr>\n",
       "      <th>0</th>\n",
       "      <td>Nestle India Ltd</td>\n",
       "    </tr>\n",
       "    <tr>\n",
       "      <th>1</th>\n",
       "      <td>Coal India Limited</td>\n",
       "    </tr>\n",
       "    <tr>\n",
       "      <th>2</th>\n",
       "      <td>Hindustan Unilever Ltd</td>\n",
       "    </tr>\n",
       "    <tr>\n",
       "      <th>3</th>\n",
       "      <td>ITC Limited</td>\n",
       "    </tr>\n",
       "    <tr>\n",
       "      <th>4</th>\n",
       "      <td>Britannia Industries Ltd</td>\n",
       "    </tr>\n",
       "  </tbody>\n",
       "</table>\n",
       "</div>"
      ],
      "text/plain": [
       "                    Company\n",
       "0          Nestle India Ltd\n",
       "1        Coal India Limited\n",
       "2    Hindustan Unilever Ltd\n",
       "3               ITC Limited\n",
       "4  Britannia Industries Ltd"
      ]
     },
     "execution_count": 12,
     "metadata": {},
     "output_type": "execute_result"
    }
   ],
   "source": [
    "import pandas as pd\n",
    "df=pd.read_excel(\"company.xlsx\")\n",
    "df.head()"
   ]
  },
  {
   "cell_type": "code",
   "execution_count": 92,
   "id": "6eda159d",
   "metadata": {},
   "outputs": [
    {
     "data": {
      "text/plain": [
       "['Nestle India Ltd',\n",
       " 'Coal India Limited',\n",
       " 'Hindustan Unilever Ltd',\n",
       " 'ITC Limited',\n",
       " 'Britannia Industries Ltd',\n",
       " 'Godrej Consumer Products Ltd',\n",
       " 'Patanjali Ayurved Limited',\n",
       " 'Dabur India Ltd',\n",
       " 'Marico Limited',\n",
       " 'Varun Beverages Ltd',\n",
       " 'GlaxoSmithKline Consumer Healthcare Ltd',\n",
       " 'soil india Limited']"
      ]
     },
     "execution_count": 92,
     "metadata": {},
     "output_type": "execute_result"
    }
   ],
   "source": [
    "lis=list(df[\"Company\"])\n",
    "lis.append(\"soil india Limited\")\n",
    "lis"
   ]
  },
  {
   "cell_type": "code",
   "execution_count": 80,
   "id": "13925b7f",
   "metadata": {},
   "outputs": [],
   "source": [
    "def score(data):\n",
    "    a=str(data)\n",
    "    return ratio(\"GodrejConsumer\",a)"
   ]
  },
  {
   "cell_type": "code",
   "execution_count": 81,
   "id": "23d011ec",
   "metadata": {},
   "outputs": [
    {
     "name": "stdout",
     "output_type": "stream",
     "text": [
      "0.19999999999999996\n",
      "0.3125\n",
      "0.2222222222222222\n",
      "0.24\n",
      "0.21052631578947367\n",
      "0.6666666666666667\n",
      "0.20512820512820518\n",
      "0.13793103448275867\n",
      "0.2857142857142857\n",
      "0.24242424242424243\n",
      "0.41509433962264153\n",
      "0.25\n"
     ]
    }
   ],
   "source": [
    "for i in lis:\n",
    "    print(score(i))"
   ]
  },
  {
   "cell_type": "code",
   "execution_count": 76,
   "id": "34f31de3",
   "metadata": {},
   "outputs": [
    {
     "name": "stdout",
     "output_type": "stream",
     "text": [
      "Varun Beverages Ltd Varun Beverages Ltd\n",
      "True\n"
     ]
    }
   ],
   "source": [
    "# first trying for sure match\n",
    "# lower case (done)\n",
    "# short form match\n",
    "# n-grams match (considering first word only)\n",
    "# no space all-in-one\n",
    "\n",
    "\n",
    "def exact_match_check(comp_lis,comp):\n",
    "    #lower and upper case match\n",
    "    comp=comp.title()\n",
    "    for i in comp_lis:\n",
    "        i=i.title()\n",
    "        \n",
    "        #first case\n",
    "        if i==comp:\n",
    "            print(i,comp)\n",
    "            return True\n",
    "        \n",
    "        \n",
    "        \n",
    "        #short Form Match\n",
    "        \n",
    "            \n",
    "    return False\n",
    "\n",
    "print(exact_match_check(lis,\"Varun bEverages Ltd\"))"
   ]
  },
  {
   "cell_type": "code",
   "execution_count": 79,
   "id": "9481cd7c",
   "metadata": {},
   "outputs": [
    {
     "name": "stdout",
     "output_type": "stream",
     "text": [
      "['Nestle', 'India', 'Ltd']\n",
      "['Coal', 'India', 'Limited']\n",
      "['Hindustan', 'Unilever', 'Ltd']\n",
      "['ITC', 'Limited']\n",
      "['Britannia', 'Industries', 'Ltd']\n",
      "['Godrej', 'Consumer', 'Products', 'Ltd']\n",
      "['Patanjali', 'Ayurved', 'Limited']\n",
      "['Dabur', 'India', 'Ltd']\n",
      "['Marico', 'Limited']\n",
      "['Varun', 'Beverages', 'Ltd']\n",
      "['GlaxoSmithKline', 'Consumer', 'Healthcare', 'Ltd']\n",
      "['soil', 'india', 'Limited']\n"
     ]
    }
   ],
   "source": [
    "#short from match\n",
    "for i in lis:\n",
    "    spl=i.split(\" \")\n",
    "    print(spl)"
   ]
  },
  {
   "cell_type": "code",
   "execution_count": 65,
   "id": "ae2e300e",
   "metadata": {},
   "outputs": [
    {
     "name": "stdout",
     "output_type": "stream",
     "text": [
      "India\n",
      "India\n",
      "Unilever\n",
      "Limited\n",
      "Industries\n",
      "Consumer\n",
      "Ayurved\n",
      "India\n",
      "Limited\n",
      "Beverages\n",
      "Consumer\n",
      "India\n"
     ]
    }
   ],
   "source": [
    "for i in lis:\n",
    "    i=i.title()\n",
    "    company_split=i.split(\" \")\n",
    "    \n",
    "    print(company_split)"
   ]
  },
  {
   "cell_type": "code",
   "execution_count": 95,
   "id": "25024833",
   "metadata": {},
   "outputs": [
    {
     "name": "stdout",
     "output_type": "stream",
     "text": [
      "['Nestle', 'India', 'Ltd']\n",
      "['Nestle', 'Nestle India', 'Nestle India Ltd']\n",
      "['Coal', 'India', 'Limited']\n",
      "['Coal', 'Coal India', 'Coal India Limited']\n",
      "['Hindustan', 'Unilever', 'Ltd']\n",
      "['Hindustan', 'Hindustan Unilever', 'Hindustan Unilever Ltd']\n",
      "['ITC', 'Limited']\n",
      "['ITC', 'ITC Limited']\n",
      "['Britannia', 'Industries', 'Ltd']\n",
      "['Britannia', 'Britannia Industries', 'Britannia Industries Ltd']\n",
      "['Godrej', 'Consumer', 'Products', 'Ltd']\n",
      "['Godrej', 'Godrej Consumer', 'Godrej Consumer Products', 'Godrej Consumer Products Ltd']\n",
      "['Patanjali', 'Ayurved', 'Limited']\n",
      "['Patanjali', 'Patanjali Ayurved', 'Patanjali Ayurved Limited']\n",
      "['Dabur', 'India', 'Ltd']\n",
      "['Dabur', 'Dabur India', 'Dabur India Ltd']\n",
      "['Marico', 'Limited']\n",
      "['Marico', 'Marico Limited']\n",
      "['Varun', 'Beverages', 'Ltd']\n",
      "['Varun', 'Varun Beverages', 'Varun Beverages Ltd']\n",
      "['GlaxoSmithKline', 'Consumer', 'Healthcare', 'Ltd']\n",
      "['GlaxoSmithKline', 'GlaxoSmithKline Consumer', 'GlaxoSmithKline Consumer Healthcare', 'GlaxoSmithKline Consumer Healthcare Ltd']\n",
      "['soil', 'india', 'Limited']\n",
      "['soil', 'soil india', 'soil india Limited']\n"
     ]
    }
   ],
   "source": [
    "#possible n-grams \n",
    "\n",
    "def n_grams(list_name):\n",
    "    name_len=len(list_name)\n",
    "    new_list=list()\n",
    "    st=list_name[0]\n",
    "    for i in range(name_len):\n",
    "        new_list.append(st)\n",
    "        if i<name_len-1:\n",
    "            st=st+\" \"+list_name[i+1]\n",
    "    return new_list\n",
    "\n",
    "\n",
    "\n",
    "\n",
    "for a in lis:\n",
    "    spl=a.split(\" \")\n",
    "    print(spl)\n",
    "    print(n_grams(spl))\n",
    "\n",
    "#print(list(combinations(a,2)))"
   ]
  },
  {
   "cell_type": "code",
   "execution_count": 99,
   "id": "2845df5e",
   "metadata": {},
   "outputs": [
    {
     "name": "stdout",
     "output_type": "stream",
     "text": [
      "n\n",
      "s\n",
      "t\n",
      "i\n",
      "l\n"
     ]
    }
   ],
   "source": [
    "#short form function\n",
    "\n",
    "a=[\"nestle\",\"second\",\"third\",\"india\",\"limited\"]\n",
    "\n",
    "for i in range(5):\n",
    "    print(a[i][0])"
   ]
  }
 ],
 "metadata": {
  "kernelspec": {
   "display_name": "Python 3 (ipykernel)",
   "language": "python",
   "name": "python3"
  },
  "language_info": {
   "codemirror_mode": {
    "name": "ipython",
    "version": 3
   },
   "file_extension": ".py",
   "mimetype": "text/x-python",
   "name": "python",
   "nbconvert_exporter": "python",
   "pygments_lexer": "ipython3",
   "version": "3.9.13"
  }
 },
 "nbformat": 4,
 "nbformat_minor": 5
}
